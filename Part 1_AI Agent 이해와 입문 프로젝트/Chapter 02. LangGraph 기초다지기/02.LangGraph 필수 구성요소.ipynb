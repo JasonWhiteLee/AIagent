{
  "cells": [
    {
      "cell_type": "markdown",
      "metadata": {
        "id": "cFDmySVEr_jf"
      },
      "source": [
        "**Part 1. AI Agent 이해와 입문 프로젝트**\n",
        "\n",
        "- Chapter 02. LangGraph 기초 다지기\n",
        "\n",
        "    - **📒[이론 + 실습]** Clip 02. LangGraph 필수 구성요소"
      ]
    },
    {
      "cell_type": "markdown",
      "metadata": {
        "id": "U2BfD-hnr_jh"
      },
      "source": [
        "## State (상태)\n",
        "\n",
        "State 는 Agent의 현재 상태를 나타내는 데이터 구조이며, 주로 `TypedDict`, Pydantic `BaseModel` 입니다.\n"
      ]
    },
    {
      "cell_type": "markdown",
      "metadata": {
        "id": "ZDkhZ66Zr_jh"
      },
      "source": [
        "### 1. `TypedDict` , Pydantic `BaseModel` 이해하기"
      ]
    },
    {
      "cell_type": "code",
      "execution_count": null,
      "metadata": {
        "id": "jwsyEUNNr_ji",
        "outputId": "e826ff95-1313-4766-c912-adfeb89bd618"
      },
      "outputs": [
        {
          "name": "stdout",
          "output_type": "stream",
          "text": [
            "{'id': 1, 'name': 'nayeon_park', 'email': 'uoahvu@gmail.com'}\n"
          ]
        }
      ],
      "source": [
        "from typing import TypedDict\n",
        "\n",
        "class User(TypedDict):\n",
        "    id: int\n",
        "    name: str\n",
        "    email: str\n",
        "\n",
        "user1: User = {\n",
        "    'id': 1,\n",
        "    'name': 'nayeon_park',\n",
        "    'email': 'uoahvu@gmail.com'\n",
        "}\n",
        "print(user1)"
      ]
    },
    {
      "cell_type": "code",
      "execution_count": null,
      "metadata": {
        "id": "2FmDtC9Pr_jj",
        "outputId": "00c1ceb8-ad6b-4a3e-f75a-04becab468dd"
      },
      "outputs": [
        {
          "name": "stdout",
          "output_type": "stream",
          "text": [
            "{'id': 1, 'name': 123, 'email': 'uoahvu@gmail.com'}\n"
          ]
        }
      ],
      "source": [
        "user1: User = {\n",
        "    'id': 1,\n",
        "    'name': 123,\n",
        "    'email': 'uoahvu@gmail.com'\n",
        "}\n",
        "print(user1)"
      ]
    },
    {
      "cell_type": "code",
      "execution_count": null,
      "metadata": {
        "id": "QFy9rQJIr_jk",
        "outputId": "f34ebf77-d3fc-4b78-d75f-9b1ede4f12e3"
      },
      "outputs": [
        {
          "name": "stdout",
          "output_type": "stream",
          "text": [
            "id=1 name='nayeon_park' email='uoahvu@gmail.com'\n"
          ]
        }
      ],
      "source": [
        "from pydantic import BaseModel\n",
        "\n",
        "class User(BaseModel):\n",
        "    id: int\n",
        "    name: str\n",
        "    email: str\n",
        "\n",
        "user_data = {\n",
        "    'id': 1,\n",
        "    'name': 'nayeon_park',\n",
        "    'email': 'uoahvu@gmail.com'\n",
        "}\n",
        "\n",
        "user1 = User(**user_data)\n",
        "print(user1)"
      ]
    },
    {
      "cell_type": "code",
      "execution_count": null,
      "metadata": {
        "id": "_OUF2RAFr_jl",
        "outputId": "af9e9337-0349-4301-b16e-70687a640ac9"
      },
      "outputs": [
        {
          "ename": "ValidationError",
          "evalue": "1 validation error for User\nname\n  Input should be a valid string [type=string_type, input_value=123, input_type=int]\n    For further information visit https://errors.pydantic.dev/2.10/v/string_type",
          "output_type": "error",
          "traceback": [
            "\u001b[31m---------------------------------------------------------------------------\u001b[39m",
            "\u001b[31mValidationError\u001b[39m                           Traceback (most recent call last)",
            "\u001b[36mCell\u001b[39m\u001b[36m \u001b[39m\u001b[32mIn[4]\u001b[39m\u001b[32m, line 7\u001b[39m\n\u001b[32m      1\u001b[39m user_data = {\n\u001b[32m      2\u001b[39m     \u001b[33m'\u001b[39m\u001b[33mid\u001b[39m\u001b[33m'\u001b[39m: \u001b[32m1\u001b[39m,\n\u001b[32m      3\u001b[39m     \u001b[33m'\u001b[39m\u001b[33mname\u001b[39m\u001b[33m'\u001b[39m: \u001b[32m123\u001b[39m,\n\u001b[32m      4\u001b[39m     \u001b[33m'\u001b[39m\u001b[33memail\u001b[39m\u001b[33m'\u001b[39m: \u001b[33m'\u001b[39m\u001b[33muoahvu@gmail.com\u001b[39m\u001b[33m'\u001b[39m\n\u001b[32m      5\u001b[39m }\n\u001b[32m----> \u001b[39m\u001b[32m7\u001b[39m user = \u001b[43mUser\u001b[49m\u001b[43m(\u001b[49m\u001b[43m*\u001b[49m\u001b[43m*\u001b[49m\u001b[43muser_data\u001b[49m\u001b[43m)\u001b[49m\n\u001b[32m      8\u001b[39m \u001b[38;5;28mprint\u001b[39m(user)\n",
            "\u001b[36mFile \u001b[39m\u001b[32mc:\\Users\\pnylo\\OneDrive\\바탕 화면\\Workspace\\Langgraph_AIAgent_fastcampus\\.conda\\Lib\\site-packages\\pydantic\\main.py:214\u001b[39m, in \u001b[36mBaseModel.__init__\u001b[39m\u001b[34m(self, **data)\u001b[39m\n\u001b[32m    212\u001b[39m \u001b[38;5;66;03m# `__tracebackhide__` tells pytest and some other tools to omit this function from tracebacks\u001b[39;00m\n\u001b[32m    213\u001b[39m __tracebackhide__ = \u001b[38;5;28;01mTrue\u001b[39;00m\n\u001b[32m--> \u001b[39m\u001b[32m214\u001b[39m validated_self = \u001b[38;5;28;43mself\u001b[39;49m\u001b[43m.\u001b[49m\u001b[43m__pydantic_validator__\u001b[49m\u001b[43m.\u001b[49m\u001b[43mvalidate_python\u001b[49m\u001b[43m(\u001b[49m\u001b[43mdata\u001b[49m\u001b[43m,\u001b[49m\u001b[43m \u001b[49m\u001b[43mself_instance\u001b[49m\u001b[43m=\u001b[49m\u001b[38;5;28;43mself\u001b[39;49m\u001b[43m)\u001b[49m\n\u001b[32m    215\u001b[39m \u001b[38;5;28;01mif\u001b[39;00m \u001b[38;5;28mself\u001b[39m \u001b[38;5;129;01mis\u001b[39;00m \u001b[38;5;129;01mnot\u001b[39;00m validated_self:\n\u001b[32m    216\u001b[39m     warnings.warn(\n\u001b[32m    217\u001b[39m         \u001b[33m'\u001b[39m\u001b[33mA custom validator is returning a value other than `self`.\u001b[39m\u001b[38;5;130;01m\\n\u001b[39;00m\u001b[33m'\u001b[39m\n\u001b[32m    218\u001b[39m         \u001b[33m\"\u001b[39m\u001b[33mReturning anything other than `self` from a top level model validator isn\u001b[39m\u001b[33m'\u001b[39m\u001b[33mt supported when validating via `__init__`.\u001b[39m\u001b[38;5;130;01m\\n\u001b[39;00m\u001b[33m\"\u001b[39m\n\u001b[32m    219\u001b[39m         \u001b[33m'\u001b[39m\u001b[33mSee the `model_validator` docs (https://docs.pydantic.dev/latest/concepts/validators/#model-validators) for more details.\u001b[39m\u001b[33m'\u001b[39m,\n\u001b[32m    220\u001b[39m         stacklevel=\u001b[32m2\u001b[39m,\n\u001b[32m    221\u001b[39m     )\n",
            "\u001b[31mValidationError\u001b[39m: 1 validation error for User\nname\n  Input should be a valid string [type=string_type, input_value=123, input_type=int]\n    For further information visit https://errors.pydantic.dev/2.10/v/string_type"
          ]
        }
      ],
      "source": [
        "user_data = {\n",
        "    'id': 1,\n",
        "    'name': 123,\n",
        "    'email': 'uoahvu@gmail.com'\n",
        "}\n",
        "\n",
        "user = User(**user_data)\n",
        "print(user)"
      ]
    },
    {
      "cell_type": "markdown",
      "metadata": {
        "id": "QgSI6ewkr_jm"
      },
      "source": [
        "- 잘못된 데이터 타입이라면 오류 메시지를 반환"
      ]
    },
    {
      "cell_type": "code",
      "execution_count": null,
      "metadata": {
        "id": "2Ltcp3UUr_jn"
      },
      "outputs": [],
      "source": []
    },
    {
      "cell_type": "markdown",
      "metadata": {
        "id": "gSJQvSHZr_jn"
      },
      "source": [
        "### 2. 상태 - Graph Schema 지정하기\n",
        "\n",
        "State(상태) 라는 것은 **그래프의 스키마**와 상태에 업데이트를 적용하는 방법을 지정하는 **리듀서 함수**로 구성됨\n",
        "\n",
        "- 에이전트를 구현하게 될 때, <u>**에이전트가 가지고 있어야 할 정보**</u>를 상태를 통해 업데이트 해주는 작업을 진행\n",
        "\n",
        "- 아래 예시에서는 기본적으로 사용자의 질문과 답변을 정해진 데이터 구조(State)에 맞춰 입력 받고 반환하는 것"
      ]
    },
    {
      "cell_type": "code",
      "execution_count": null,
      "metadata": {
        "id": "Qab-C7GQr_jn"
      },
      "outputs": [],
      "source": [
        "from langgraph.graph import StateGraph, START, END\n",
        "from typing_extensions import TypedDict\n",
        "\n",
        "\n",
        "# 입력을 위한 스키마 정의\n",
        "class InputState(TypedDict):\n",
        "    question: str\n",
        "\n",
        "\n",
        "# 출력을 위한 스키마 정의\n",
        "class OutputState(TypedDict):\n",
        "    answer: str\n",
        "\n",
        "\n",
        "# 입력과 출력을 합한 종합 스키마 정의\n",
        "class OverallState(InputState, OutputState):\n",
        "    pass"
      ]
    },
    {
      "cell_type": "code",
      "execution_count": null,
      "metadata": {
        "id": "6_TG42lFr_jo",
        "outputId": "c547c82e-bf6f-4065-a99f-ecd6ebe3de65"
      },
      "outputs": [
        {
          "name": "stdout",
          "output_type": "stream",
          "text": [
            "{'answer': 'bye'}\n"
          ]
        }
      ],
      "source": [
        "# 입력을 처리하고 답변을 생성하는 노드 정의\n",
        "def answer_node(state: InputState):\n",
        "    # Example answer and an extra key\n",
        "    return {\"answer\": \"bye\", \"question\": state[\"question\"]} # 상태 업데이트\n",
        "\n",
        "\n",
        "graph_builder = StateGraph(OverallState, input=InputState, output=OutputState)\n",
        "graph_builder.add_node(answer_node)  # 답변 노드 추가\n",
        "graph_builder.add_edge(START, \"answer_node\")  # 시작 엣지 추가\n",
        "graph_builder.add_edge(\"answer_node\", END)  # 끝 엣지 추가\n",
        "graph = graph_builder.compile()  # Compile the graph\n",
        "\n",
        "# 입력 invoke 및 결과 출력\n",
        "print(graph.invoke({\"question\": \"hi\"}))"
      ]
    },
    {
      "cell_type": "code",
      "execution_count": null,
      "metadata": {
        "id": "sfDxUMT5r_jp",
        "outputId": "a9646eab-301d-433d-8b39-9c867336ef18"
      },
      "outputs": [
        {
          "data": {
            "image/png": "[encoded data removed]",
            "text/plain": [
              "<langgraph.graph.state.CompiledStateGraph object at 0x00000209D06FB610>"
            ]
          },
          "execution_count": 7,
          "metadata": {},
          "output_type": "execute_result"
        }
      ],
      "source": [
        "graph"
      ]
    },
    {
      "cell_type": "code",
      "execution_count": null,
      "metadata": {
        "id": "_tif87AKr_jp"
      },
      "outputs": [],
      "source": []
    },
    {
      "cell_type": "code",
      "execution_count": null,
      "metadata": {
        "id": "eyQjSQ-vr_jp"
      },
      "outputs": [],
      "source": []
    },
    {
      "cell_type": "markdown",
      "metadata": {
        "id": "_fmvgjNNr_jq"
      },
      "source": [
        "### 3. 상태 - Reducer 지정하기\n",
        "\n",
        "리듀서(Reducer)는 노드의 업데이트가 State(상태)에 적용되는 방식을 지정하는 함수\n"
      ]
    },
    {
      "cell_type": "markdown",
      "metadata": {
        "id": "FKp53zJGr_jq"
      },
      "source": [
        "1 ) 리듀서가 지정되지 않은 경우"
      ]
    },
    {
      "cell_type": "code",
      "execution_count": null,
      "metadata": {
        "id": "USUdQ5Crr_jq"
      },
      "outputs": [],
      "source": [
        "from typing_extensions import TypedDict\n",
        "\n",
        "class State(TypedDict):\n",
        "    value1: int\n",
        "    value2: list[str]"
      ]
    },
    {
      "cell_type": "markdown",
      "metadata": {
        "id": "oJ8Af6Yqr_jq"
      },
      "source": [
        "2 ) 리듀서가 지정된 경우(`operator.add`)"
      ]
    },
    {
      "cell_type": "code",
      "execution_count": null,
      "metadata": {
        "id": "c20F9Z6wr_jr"
      },
      "outputs": [],
      "source": [
        "from typing import Annotated\n",
        "from typing_extensions import TypedDict\n",
        "from operator import add\n",
        "\n",
        "class State(TypedDict):\n",
        "    value1: int\n",
        "    value2: Annotated[list[str], add]"
      ]
    },
    {
      "cell_type": "markdown",
      "metadata": {
        "id": "sgtw5wPEr_jr"
      },
      "source": [
        "3 ) 리듀서가 지정된 경우(`custom add`)"
      ]
    },
    {
      "cell_type": "code",
      "execution_count": null,
      "metadata": {
        "id": "5AlHr7R8r_jr"
      },
      "outputs": [],
      "source": [
        "from typing_extensions import Annotated\n",
        "from typing_extensions import TypedDict\n",
        "\n",
        "def add(left, right):\n",
        "    \"\"\"Can also import `add` from the `operator` built-in.\"\"\"\n",
        "    return left + right\n",
        "\n",
        "\n",
        "class State(TypedDict):\n",
        "    value1: int\n",
        "    value2: Annotated[list[str], add]"
      ]
    },
    {
      "cell_type": "markdown",
      "metadata": {
        "id": "vViHUNfAr_jr"
      },
      "source": [
        "4 ) 리듀서가 지정된 경우(`add_messages`)\n",
        "\n",
        "\n",
        "- [add_messages](https://langchain-ai.github.io/langgraph/reference/graphs/#langgraph.graph.message.add_messages) 는 기존 메시지에서 추가 메시지를 병합하는 데 사용하는 함수로, 새로 들어온 메시지를 추가할 때 사용할 수 있는 리듀서 역할\n",
        "\n",
        "    - 사용 예시\n",
        "\n",
        "        ```python\n",
        "        msgs1 = [HumanMessage(content=\"Hello\", id=\"1\")]\n",
        "        msgs2 = [AIMessage(content=\"Hi there!\", id=\"2\")]\n",
        "        add_messages(msgs1, msgs2)\n",
        "        ```"
      ]
    },
    {
      "cell_type": "code",
      "execution_count": null,
      "metadata": {
        "id": "JDS16Ry0r_jr"
      },
      "outputs": [],
      "source": [
        "from langchain_core.messages import AnyMessage\n",
        "from langgraph.graph.message import add_messages\n",
        "from typing import Annotated\n",
        "from typing_extensions import TypedDict\n",
        "\n",
        "class State(TypedDict):\n",
        "    messages: Annotated[list[AnyMessage], add_messages]"
      ]
    },
    {
      "cell_type": "code",
      "execution_count": null,
      "metadata": {
        "id": "7uENcO34r_jr"
      },
      "outputs": [],
      "source": []
    },
    {
      "cell_type": "code",
      "execution_count": null,
      "metadata": {
        "id": "1loBVI6Fr_jr"
      },
      "outputs": [],
      "source": []
    },
    {
      "cell_type": "markdown",
      "metadata": {
        "id": "ratKTyiNr_js"
      },
      "source": [
        "## Nodes\n",
        "\n",
        "노드는 Agent가 수행하는 논리를 구현하는 함수로 표현됨"
      ]
    },
    {
      "cell_type": "markdown",
      "metadata": {
        "id": "M21oc9xFr_js"
      },
      "source": [
        "### 1. 노드를 추가하는 방법"
      ]
    },
    {
      "cell_type": "code",
      "execution_count": null,
      "metadata": {
        "id": "sEBePO4kr_js",
        "outputId": "5f1552ad-047d-4f3d-baca-7beac5dca57e"
      },
      "outputs": [
        {
          "data": {
            "text/plain": [
              "<langgraph.graph.state.StateGraph at 0x209d002ea50>"
            ]
          },
          "execution_count": 12,
          "metadata": {},
          "output_type": "execute_result"
        }
      ],
      "source": [
        "from langgraph.graph import StateGraph\n",
        "\n",
        "builder = StateGraph(dict)\n",
        "\n",
        "\n",
        "def my_node(state: dict):\n",
        "    return {\"results\": f\"Hello, {state['input']}!\"}\n",
        "\n",
        "\n",
        "def my_other_node(state: dict):\n",
        "    return state\n",
        "\n",
        "\n",
        "builder.add_node(\"my_node\", my_node)\n",
        "builder.add_node(\"other_node\", my_other_node)"
      ]
    },
    {
      "cell_type": "code",
      "execution_count": null,
      "metadata": {
        "id": "gZ4xIQxbr_js"
      },
      "outputs": [],
      "source": []
    },
    {
      "cell_type": "markdown",
      "metadata": {
        "id": "VxOAYZQUr_js"
      },
      "source": [
        "### 2. 노드의 기능을 구현하는 방법"
      ]
    },
    {
      "cell_type": "code",
      "execution_count": null,
      "metadata": {
        "id": "kBjrj1Z0r_js"
      },
      "outputs": [],
      "source": [
        "from typing import Annotated\n",
        "from typing_extensions import TypedDict\n",
        "\n",
        "from langgraph.graph import StateGraph, START, END\n",
        "\n",
        "from operator import add\n",
        "\n",
        "class State(TypedDict):\n",
        "    messages: Annotated[list[str], add]\n",
        "\n",
        "\n",
        "graph = StateGraph(State)"
      ]
    },
    {
      "cell_type": "code",
      "execution_count": null,
      "metadata": {
        "id": "HyzY-wpNr_js",
        "outputId": "40271ba0-4842-49d6-ca94-ccba7b0d3cf4"
      },
      "outputs": [
        {
          "data": {
            "text/plain": [
              "<langgraph.graph.state.StateGraph at 0x209cfdd9c50>"
            ]
          },
          "execution_count": 14,
          "metadata": {},
          "output_type": "execute_result"
        }
      ],
      "source": [
        "def chatbot(state: State):\n",
        "    answer = \"안녕하세요! 무엇을 도와드릴까요?\"\n",
        "    print(\"Answer : \", answer)\n",
        "\n",
        "    return {\"messages\": [answer]}\n",
        "\n",
        "\n",
        "graph.add_node(\"chatbot\", chatbot)"
      ]
    },
    {
      "cell_type": "code",
      "execution_count": null,
      "metadata": {
        "id": "mdZZhcp9r_js"
      },
      "outputs": [],
      "source": [
        "graph.add_edge(START, \"chatbot\")\n",
        "graph.add_edge(\"chatbot\", END)\n",
        "graph = graph.compile()"
      ]
    },
    {
      "cell_type": "code",
      "execution_count": null,
      "metadata": {
        "id": "61LcBuKrr_jt",
        "outputId": "f170734d-e500-47f3-9eb7-b0414d20b3a6"
      },
      "outputs": [
        {
          "name": "stdout",
          "output_type": "stream",
          "text": [
            "Answer :  안녕하세요! 무엇을 도와드릴까요?\n"
          ]
        },
        {
          "data": {
            "text/plain": [
              "{'messages': ['안녕!', '안녕하세요! 무엇을 도와드릴까요?']}"
            ]
          },
          "execution_count": 16,
          "metadata": {},
          "output_type": "execute_result"
        }
      ],
      "source": [
        "graph.invoke({\"messages\": [\"안녕!\"]})"
      ]
    },
    {
      "cell_type": "code",
      "execution_count": null,
      "metadata": {
        "id": "DIkodsV6r_jt"
      },
      "outputs": [],
      "source": []
    },
    {
      "cell_type": "markdown",
      "metadata": {
        "id": "GwBEPxeBr_jt"
      },
      "source": [
        "## Edges"
      ]
    },
    {
      "cell_type": "markdown",
      "metadata": {
        "id": "B5qTO-OCr_jt"
      },
      "source": [
        "- 기본 엣지 (Normal Edges): 한 노드에서 다음 노드로 바로 이동\n",
        "\n",
        "    ```python\n",
        "    graph.add_edge(\"node_a\", \"node_b\")\n",
        "    ```\n"
      ]
    },
    {
      "cell_type": "markdown",
      "metadata": {
        "id": "KhkwwubYr_jt"
      },
      "source": [
        "### Routing\n",
        "\n",
        "라우팅이란, **입력을 분류하고 후속 작업으로 안내하는 과정**으로 다음으로 진행되어야 할 스텝을 결정하여 보내주는 것\n",
        "\n",
        "![image.png](attachment:image.png)"
      ]
    },
    {
      "cell_type": "markdown",
      "metadata": {
        "id": "51QfkYDsr_ju"
      },
      "source": [
        "- 조건부 엣지 (Conditional Edges): 다음으로 이동할 노드를 결정하는 함수를 호출하여 결과에 따라 이동"
      ]
    },
    {
      "cell_type": "code",
      "execution_count": null,
      "metadata": {
        "id": "8k1VBM4Or_ju"
      },
      "outputs": [],
      "source": [
        "class State(TypedDict):\n",
        "    input: str\n",
        "    output: str"
      ]
    },
    {
      "cell_type": "code",
      "execution_count": null,
      "metadata": {
        "id": "13QTLhT8r_ju"
      },
      "outputs": [],
      "source": [
        "router_builder = StateGraph(State)"
      ]
    },
    {
      "cell_type": "code",
      "execution_count": null,
      "metadata": {
        "id": "0lYae3V-r_ju"
      },
      "outputs": [],
      "source": [
        "def routing_function(state: State):\n",
        "    if state[\"input\"] == \"isroute\":\n",
        "        return True\n",
        "    return False"
      ]
    },
    {
      "cell_type": "code",
      "execution_count": null,
      "metadata": {
        "id": "BauGCwLsr_ju",
        "outputId": "c4f58a62-f9c4-4741-90ec-9f325e2c4b06"
      },
      "outputs": [
        {
          "data": {
            "text/plain": [
              "<langgraph.graph.state.StateGraph at 0x209d1152f50>"
            ]
          },
          "execution_count": 20,
          "metadata": {},
          "output_type": "execute_result"
        }
      ],
      "source": [
        "router_builder.add_conditional_edges(\"node_a\", routing_function, {True: \"node_b\", False: \"node_c\"})"
      ]
    },
    {
      "cell_type": "code",
      "execution_count": null,
      "metadata": {
        "id": "HEL9VfoAr_jv"
      },
      "outputs": [],
      "source": []
    },
    {
      "cell_type": "markdown",
      "metadata": {
        "id": "G7l97V-_r_jv"
      },
      "source": [
        "- 진입점 (Entry Point): 사용자 입력이 도착하면 호출할 노드\n",
        "\n",
        "    ```python\n",
        "    from langgraph.graph import START\n",
        "\n",
        "    graph.add_edge(START, \"node_a\")\n",
        "    ```\n",
        "\n",
        "\n",
        "\n"
      ]
    },
    {
      "cell_type": "markdown",
      "metadata": {
        "id": "LTRGArrrr_jv"
      },
      "source": [
        "- 조건부 진입점 (Conditional Entry Point): 사용자 입력이 도착하면 호출할 노드를 결정하는 함수를 호출하여 결과에 따라 이동\n",
        "\n",
        "    ```python\n",
        "    graph.add_conditional_edges(START, routing_function, {True: \"node_b\", False: \"node_c\"})\n",
        "    ```"
      ]
    },
    {
      "cell_type": "code",
      "execution_count": null,
      "metadata": {
        "id": "DH1d9qFwr_jv"
      },
      "outputs": [],
      "source": []
    },
    {
      "cell_type": "code",
      "execution_count": null,
      "metadata": {
        "id": "WxPnSEH0r_jv"
      },
      "outputs": [],
      "source": []
    }
  ],
  "metadata": {
    "kernelspec": {
      "display_name": "Python 3",
      "language": "python",
      "name": "python3"
    },
    "language_info": {
      "codemirror_mode": {
        "name": "ipython",
        "version": 3
      },
      "file_extension": ".py",
      "mimetype": "text/x-python",
      "name": "python",
      "nbconvert_exporter": "python",
      "pygments_lexer": "ipython3",
      "version": "3.11.11"
    },
    "colab": {
      "provenance": []
    }
  },
  "nbformat": 4,
  "nbformat_minor": 0
}